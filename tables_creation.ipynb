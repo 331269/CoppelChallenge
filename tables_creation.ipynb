{
 "cells": [
  {
   "cell_type": "code",
   "execution_count": null,
   "id": "466e899a",
   "metadata": {},
   "outputs": [],
   "source": [
    "import sqlite3\n",
    "import pandas as pd\n",
    "\n",
    "def bronze_table(file):\n",
    "    df_raw = pd.read_csv(file,  encoding=\"latin1\")\n",
    "\n",
    "    # Crear conexión a base de datos (si no existe, se crea el archivo)\n",
    "    conn = sqlite3.connect('coppelchallenge.db')\n",
    "\n",
    "    # Crear cursor para ejecutar queries\n",
    "    cursor = conn.cursor()\n",
    "\n",
    "    # Crear tabla (si no existe)\n",
    "    cursor.execute('''\n",
    "    CREATE TABLE IF NOT EXISTS ventas_bronze (\n",
    "        InvoiceNo TEXT,\n",
    "        StockCode TEXT,\n",
    "        Description TEXT,\n",
    "        Quantity INTEGER,\n",
    "        InvoiceDate TEXT,\n",
    "        UnitPrice REAL,\n",
    "        CustomerID REAL,\n",
    "        Country TEXT\n",
    "    );\n",
    "\n",
    "    ''')\n",
    "\n",
    "    # Insertar el DataFrame completo en la tabla 'ventas'\n",
    "    df_raw.to_sql('ventas_bronze', conn, if_exists='append', index=False)\n",
    "\n",
    "\n"
   ]
  },
  {
   "cell_type": "code",
   "execution_count": 7,
   "id": "4a0f2c5b",
   "metadata": {},
   "outputs": [],
   "source": [
    "bronze_table()"
   ]
  },
  {
   "cell_type": "code",
   "execution_count": 11,
   "id": "5f289233",
   "metadata": {},
   "outputs": [],
   "source": [
    "\n",
    "conn = sqlite3.connect('coppelchallenge.db')\n",
    "cursor = conn.cursor()  # ✅ Define the cursor here\n",
    "\n",
    "cursor.execute('SELECT * FROM ventas_bronze')\n",
    "\n",
    "column_names = [description[0] for description in cursor.description]\n",
    "\n",
    "# Obtener los datos\n",
    "filas = cursor.fetchall()\n",
    "\n",
    "# Crear el DataFrame\n",
    "df = pd.DataFrame(filas, columns=column_names)\n",
    "\n",
    "# Cerrar la conexión\n",
    "conn.close()"
   ]
  },
  {
   "cell_type": "code",
   "execution_count": 10,
   "id": "110e8b5d",
   "metadata": {},
   "outputs": [
    {
     "ename": "ProgrammingError",
     "evalue": "Cannot operate on a closed database.",
     "output_type": "error",
     "traceback": [
      "\u001b[1;31m---------------------------------------------------------------------------\u001b[0m",
      "\u001b[1;31mProgrammingError\u001b[0m                          Traceback (most recent call last)",
      "Cell \u001b[1;32mIn[10], line 1\u001b[0m\n\u001b[1;32m----> 1\u001b[0m cursor\u001b[38;5;241m.\u001b[39mexecute(\u001b[38;5;124m'\u001b[39m\u001b[38;5;124mSELECT * FROM ventas_bronze\u001b[39m\u001b[38;5;124m'\u001b[39m)\n",
      "\u001b[1;31mProgrammingError\u001b[0m: Cannot operate on a closed database."
     ]
    }
   ],
   "source": [
    "cursor.execute('SELECT * FROM ventas_bronze')"
   ]
  }
 ],
 "metadata": {
  "kernelspec": {
   "display_name": "base",
   "language": "python",
   "name": "python3"
  },
  "language_info": {
   "codemirror_mode": {
    "name": "ipython",
    "version": 3
   },
   "file_extension": ".py",
   "mimetype": "text/x-python",
   "name": "python",
   "nbconvert_exporter": "python",
   "pygments_lexer": "ipython3",
   "version": "3.13.5"
  }
 },
 "nbformat": 4,
 "nbformat_minor": 5
}
