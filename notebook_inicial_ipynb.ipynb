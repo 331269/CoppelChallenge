{
  "nbformat": 4,
  "nbformat_minor": 0,
  "metadata": {
    "colab": {
      "provenance": []
    },
    "kernelspec": {
      "name": "python3",
      "display_name": "Python 3"
    },
    "language_info": {
      "name": "python"
    }
  },
  "cells": [
    {
      "cell_type": "code",
      "execution_count": 1,
      "metadata": {
        "colab": {
          "base_uri": "https://localhost:8080/"
        },
        "id": "7xd_EwXsZE26",
        "outputId": "5e3c1182-fff3-4cef-89af-e5342b9bf4d5"
      },
      "outputs": [
        {
          "output_type": "stream",
          "name": "stdout",
          "text": [
            "Datos cargados exitosamente.\n",
            "Forma del dataset: (338924, 8)\n",
            "\n",
            "Primeras 5 filas:\n",
            "  InvoiceNo StockCode                          Description  Quantity  \\\n",
            "0    536365    85123A   WHITE HANGING HEART T-LIGHT HOLDER       6.0   \n",
            "1    536365     71053                  WHITE METAL LANTERN       6.0   \n",
            "2    536365    84406B       CREAM CUPID HEARTS COAT HANGER       8.0   \n",
            "3    536365    84029G  KNITTED UNION FLAG HOT WATER BOTTLE       6.0   \n",
            "4    536365    84029E       RED WOOLLY HOTTIE WHITE HEART.       6.0   \n",
            "\n",
            "      InvoiceDate  UnitPrice  CustomerID         Country  \n",
            "0  12/1/2010 8:26       2.55     17850.0  United Kingdom  \n",
            "1  12/1/2010 8:26       3.39     17850.0  United Kingdom  \n",
            "2  12/1/2010 8:26       2.75     17850.0  United Kingdom  \n",
            "3  12/1/2010 8:26       3.39     17850.0  United Kingdom  \n",
            "4  12/1/2010 8:26       3.39     17850.0  United Kingdom  \n",
            "\n",
            "--- OBJETIVO DEL NEGOCIO ---\n",
            "El objetivo es construir un modelo que pueda predecir si un cliente existente volverá a comprar en el futuro.\n",
            "Se debe realizar un análisis de los datos para entenderlos, limpiarlos y transformarlos en un formato adecuado para un modelo de Machine Learning.\n",
            "Tu tarea es diseñar y construir todo el pipeline para llevar esta idea a producción.\n"
          ]
        }
      ],
      "source": [
        "import pandas as pd\n",
        "\n",
        "# Cargar los datos\n",
        "try:\n",
        "    df = pd.read_csv('transacciones_retail.csv', encoding='utf-8')\n",
        "except UnicodeDecodeError:\n",
        "    df = pd.read_csv('transacciones_retail.csv', encoding='ISO-8859-1')\n",
        "\n",
        "print(\"Datos cargados exitosamente.\")\n",
        "print(\"Forma del dataset:\", df.shape)\n",
        "print(\"\\nPrimeras 5 filas:\")\n",
        "print(df.head())\n",
        "\n",
        "print(\"\\n--- OBJETIVO DEL NEGOCIO ---\")\n",
        "print(\"El objetivo es construir un modelo que pueda predecir si un cliente existente volverá a comprar en el futuro.\")\n",
        "print(\"Se debe realizar un análisis de los datos para entenderlos, limpiarlos y transformarlos en un formato adecuado para un modelo de Machine Learning.\")\n",
        "print(\"Tu tarea es diseñar y construir todo el pipeline para llevar esta idea a producción.\")"
      ]
    }
  ]
}