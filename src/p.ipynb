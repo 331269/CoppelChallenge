{
 "cells": [
  {
   "cell_type": "code",
   "execution_count": 13,
   "id": "cb0d3b72",
   "metadata": {},
   "outputs": [],
   "source": [
    "import sys\n",
    "import os\n",
    "\n",
    "# Esto funciona en notebooks\n",
    "src_path = os.path.abspath('')\n",
    "sys.path.append(src_path)"
   ]
  },
  {
   "cell_type": "code",
   "execution_count": 14,
   "id": "645aa46f",
   "metadata": {},
   "outputs": [
    {
     "data": {
      "text/plain": [
       "'c:\\\\Users\\\\cleme\\\\OneDrive\\\\Documentos\\\\ChallengeCoppel\\\\CoppelChallenge\\\\src'"
      ]
     },
     "execution_count": 14,
     "metadata": {},
     "output_type": "execute_result"
    }
   ],
   "source": [
    "import os\n",
    "os.getcwd()"
   ]
  },
  {
   "cell_type": "code",
   "execution_count": 15,
   "id": "80dd131d",
   "metadata": {},
   "outputs": [],
   "source": [
    "os.chdir('c:/Users/cleme/OneDrive/Documentos/ChallengeCoppel/CoppelChallenge/src')"
   ]
  }
 ],
 "metadata": {
  "language_info": {
   "name": "python"
  }
 },
 "nbformat": 4,
 "nbformat_minor": 5
}
